{
  "cells": [
    {
      "cell_type": "markdown",
      "metadata": {
        "id": "view-in-github",
        "colab_type": "text"
      },
      "source": [
        "<a href=\"https://colab.research.google.com/github/hursoo/big_k-modern_1/blob/main/gb_011_scraping(big1_251)_colab.ipynb\" target=\"_parent\"><img src=\"https://colab.research.google.com/assets/colab-badge.svg\" alt=\"Open In Colab\"/></a>"
      ]
    },
    {
      "cell_type": "markdown",
      "metadata": {
        "id": "d5I4gxbtiklW"
      },
      "source": [
        "# 1.필요한 도구와 라이브러리 설치"
      ]
    },
    {
      "cell_type": "code",
      "source": [
        "# 구글 드라이브 마운트\n",
        "\n",
        "from google.colab import drive\n",
        "drive.mount('/content/drive')"
      ],
      "metadata": {
        "id": "K48ari_FPvH3"
      },
      "execution_count": null,
      "outputs": []
    },
    {
      "cell_type": "code",
      "source": [
        "# 경로 지정\n",
        "\n",
        "file_path = '/content/drive/MyDrive/_big1_25-1_code/'"
      ],
      "metadata": {
        "id": "nmDzrBEYaXeS"
      },
      "execution_count": null,
      "outputs": []
    },
    {
      "cell_type": "code",
      "execution_count": null,
      "metadata": {
        "id": "mQEi61fV8eIV",
        "tags": []
      },
      "outputs": [],
      "source": [
        "import ssl\n",
        "import pandas as pd\n",
        "from urllib.request import urlopen\n",
        "from bs4 import BeautifulSoup"
      ]
    },
    {
      "cell_type": "markdown",
      "metadata": {
        "id": "L4fc4WjgjAwo"
      },
      "source": [
        "# 2.기사정보 다운로드"
      ]
    },
    {
      "cell_type": "markdown",
      "metadata": {
        "id": "k9fdy_59jIIY"
      },
      "source": [
        "사전 작업\n",
        "- 국편 한국사데이터베이스/개벽에서 기사정보 다운로드 = \"근현대잡지자료_20250315172708.txt\""
      ]
    },
    {
      "cell_type": "code",
      "source": [
        "gisa_info = pd.read_csv(file_path + 'data/근현대잡지자료_20250315172708.txt', sep = '^', encoding='utf-8')\n",
        "gisa_info"
      ],
      "metadata": {
        "id": "A7hRQ2pFXynP"
      },
      "execution_count": null,
      "outputs": []
    },
    {
      "cell_type": "markdown",
      "metadata": {
        "id": "bfAGNTvuPIEt"
      },
      "source": [
        "# 3.기사정보로부터 주요논설 선별\n",
        "- 오프라인(코드 바깥) 작업\n",
        "- 2000여개 기사를 보고 필요한 '주요논설'을 선별"
      ]
    },
    {
      "cell_type": "markdown",
      "metadata": {
        "id": "OPoxAvSnPIEt"
      },
      "source": [
        "# 4.주요논설 334개 목록파일 불러옴"
      ]
    },
    {
      "cell_type": "code",
      "execution_count": null,
      "metadata": {
        "tags": [],
        "id": "pj72hrl3PIEt"
      },
      "outputs": [],
      "source": [
        "# 주요 논설 id\n",
        "r334_info = pd.read_excel(file_path + 'data/gb_data_2.1.xlsx', sheet_name = 'ron_info')\n",
        "r334_info"
      ]
    },
    {
      "cell_type": "code",
      "execution_count": null,
      "metadata": {
        "tags": [],
        "id": "RN9C01wmPIEu"
      },
      "outputs": [],
      "source": [
        "urls = r334_info['url'].tolist()\n",
        "urls[:3]"
      ]
    },
    {
      "cell_type": "markdown",
      "metadata": {
        "id": "AXPq0wwTmvip"
      },
      "source": [
        "# 5.주요 논설 원문 스크래핑\n",
        "- 기사정보와 주요논설 목록을 활용.\n",
        "- url 주소를 이용하여 웹 페이지에 접속하고, BeautifulSoup을 사용하여 원하는 부분의 데이터를 추출"
      ]
    },
    {
      "cell_type": "code",
      "execution_count": null,
      "metadata": {
        "id": "qmFNq7S-PIEu"
      },
      "outputs": [],
      "source": [
        "def get_contents(urls, n):\n",
        "    results = []\n",
        "\n",
        "    ctx = ssl.create_default_context()\n",
        "    ctx.check_hostname = False\n",
        "    ctx.verify_mode = ssl.CERT_NONE\n",
        "\n",
        "    for url in urls[:n]:\n",
        "        webpage = urlopen(url, context=ctx)\n",
        "        r_id = url[-16:]\n",
        "\n",
        "        bsobj = BeautifulSoup(webpage.read(), 'html.parser')\n",
        "        List1 = bsobj.findAll('div', {'id': 'cont_view'})\n",
        "\n",
        "        for z in List1:\n",
        "            z1 = z.get_text('\\n', strip=True)\n",
        "            results.append([r_id, z1])\n",
        "\n",
        "    result_df = pd.DataFrame(results, columns=['r_id', 'content'])\n",
        "    return result_df"
      ]
    },
    {
      "cell_type": "code",
      "execution_count": null,
      "metadata": {
        "id": "NyvfMykrPIEu"
      },
      "outputs": [],
      "source": [
        "contents_df = get_contents(urls, 10)\n",
        "contents_df"
      ]
    },
    {
      "cell_type": "code",
      "execution_count": null,
      "metadata": {
        "id": "qi38QdJ5IjAc",
        "tags": []
      },
      "outputs": [],
      "source": [
        "# 본문 내용 확인 (첫 행)\n",
        "#contents_5_df.loc[3,'Content']\n",
        "#print(contents_df.loc[3,'content'])"
      ]
    },
    {
      "cell_type": "markdown",
      "metadata": {
        "id": "HbLnDXixpwQ_"
      },
      "source": [
        "# 6.데이터 저장"
      ]
    },
    {
      "cell_type": "code",
      "execution_count": null,
      "metadata": {
        "id": "yAlg8SfxPIEu"
      },
      "outputs": [],
      "source": [
        "r334_info1 = r334_info.drop('r_id', axis=1) # 두 df의 중복열 중 미리 한쪽을 제거\n",
        "combi_df = pd.merge(r334_info1, contents_df, left_on='r_id_raw', right_on = 'r_id', how='inner')\n",
        "combi_df1 = combi_df[['r_id', 'r_id_raw', 'title', 'writer', 'gisa_class', 'date', 'url', 'year', 'content']]\n",
        "combi_df1"
      ]
    },
    {
      "cell_type": "code",
      "execution_count": null,
      "metadata": {
        "tags": [],
        "id": "DafyysXBPIEu"
      },
      "outputs": [],
      "source": [
        "# 저장\n",
        "combi_df1.to_excel(file_path + 'result/ron10_data.xlsx', index=False)  # 인덱스를 저장하지 않도록 설정"
      ]
    },
    {
      "cell_type": "markdown",
      "metadata": {
        "id": "RtsnJaro1nL-"
      },
      "source": [
        "# The End of Note"
      ]
    }
  ],
  "metadata": {
    "colab": {
      "private_outputs": true,
      "provenance": [],
      "collapsed_sections": [
        "d5I4gxbtiklW",
        "L4fc4WjgjAwo",
        "OPoxAvSnPIEt",
        "AXPq0wwTmvip",
        "HbLnDXixpwQ_"
      ],
      "toc_visible": true,
      "include_colab_link": true
    },
    "kernelspec": {
      "display_name": "Python 3",
      "name": "python3"
    },
    "language_info": {
      "codemirror_mode": {
        "name": "ipython",
        "version": 3
      },
      "file_extension": ".py",
      "mimetype": "text/x-python",
      "name": "python",
      "nbconvert_exporter": "python",
      "pygments_lexer": "ipython3",
      "version": "3.12.7"
    },
    "toc-autonumbering": true
  },
  "nbformat": 4,
  "nbformat_minor": 0
}