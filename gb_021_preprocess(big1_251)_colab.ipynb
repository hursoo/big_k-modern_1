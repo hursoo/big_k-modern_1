{
  "cells": [
    {
      "cell_type": "markdown",
      "metadata": {
        "id": "view-in-github",
        "colab_type": "text"
      },
      "source": [
        "<a href=\"https://colab.research.google.com/github/hursoo/big_k-modern_1/blob/main/gb_021_preprocess(big1_251)_colab.ipynb\" target=\"_parent\"><img src=\"https://colab.research.google.com/assets/colab-badge.svg\" alt=\"Open In Colab\"/></a>"
      ]
    },
    {
      "cell_type": "markdown",
      "source": [
        "# 1.필요한 도구와 라이브러리 설치"
      ],
      "metadata": {
        "id": "HVRSrArvmPy9"
      }
    },
    {
      "cell_type": "code",
      "source": [
        "# 구글 드라이브 마운트\n",
        "\n",
        "from google.colab import drive\n",
        "drive.mount('/content/drive')"
      ],
      "metadata": {
        "id": "s1ELWmV4mTO4"
      },
      "execution_count": null,
      "outputs": []
    },
    {
      "cell_type": "code",
      "source": [
        "# 경로 지정\n",
        "\n",
        "file_path = '/content/drive/MyDrive/_big1_25-1_code/'"
      ],
      "metadata": {
        "id": "9upQUvZ4maLg"
      },
      "execution_count": null,
      "outputs": []
    },
    {
      "cell_type": "code",
      "execution_count": null,
      "metadata": {
        "id": "W-wDLirelGIz",
        "tags": []
      },
      "outputs": [],
      "source": [
        "import pandas as pd\n",
        "import numpy as np\n",
        "import os\n",
        "import sys\n",
        "import re"
      ]
    },
    {
      "cell_type": "markdown",
      "metadata": {
        "id": "fFIYDYOklkHx"
      },
      "source": [
        "# 2.데이터 불러오기"
      ]
    },
    {
      "cell_type": "code",
      "execution_count": null,
      "metadata": {
        "id": "-2RuhQrhlNzg",
        "tags": []
      },
      "outputs": [],
      "source": [
        "# 데이터 불러오기\n",
        "\n",
        "df = pd.read_excel(file_path + 'result/ron10_data.xlsx')\n",
        "print(df.shape)\n",
        "\n",
        "df"
      ]
    },
    {
      "cell_type": "code",
      "execution_count": null,
      "metadata": {
        "tags": [],
        "id": "HfcgNK45l9b6"
      },
      "outputs": [],
      "source": [
        "df1 = df[['r_id', 'title', 'content']]\n",
        "df1"
      ]
    },
    {
      "cell_type": "markdown",
      "metadata": {
        "id": "5Fak0VolnO-5"
      },
      "source": [
        "# 3.기사를 문장별로 분리"
      ]
    },
    {
      "cell_type": "code",
      "execution_count": null,
      "metadata": {
        "id": "8ibc_cdol4rh",
        "tags": []
      },
      "outputs": [],
      "source": [
        "import re\n",
        "\n",
        "# raw string 사용\n",
        "separators = [r'\\n', r'\\.', r'!', r'\\?']\n",
        "pattern = '|'.join(separators)  # 바로 윗 줄 구분자들을 '또는'으로 연결함\n",
        "\n",
        "df1 = df1.copy()\n",
        "df1.loc[:, 'splited_sent'] = df1['content'].apply(lambda x: re.split(pattern, x))\n",
        "df1"
      ]
    },
    {
      "cell_type": "code",
      "execution_count": null,
      "metadata": {
        "tags": [],
        "id": "w126UZThl9cF"
      },
      "outputs": [],
      "source": [
        "# 각 문장을 df의 행이 되도록 변환\n",
        "\n",
        "sents_df = df1.explode('splited_sent')\n",
        "sents_df = sents_df.reset_index(drop=True) # 인덱스를 재부여\n",
        "sents_df"
      ]
    },
    {
      "cell_type": "markdown",
      "metadata": {
        "id": "erGqiALOnprZ"
      },
      "source": [
        "# 4.형태소 분석\n",
        "- 제목: 형태소 분석기 적용\n",
        "- kiwi 형태소 분석기로 텍스트 데이터 분석"
      ]
    },
    {
      "cell_type": "markdown",
      "metadata": {
        "id": "ss1zIGymofkH"
      },
      "source": [
        "## 4.1.kiwi 설치"
      ]
    },
    {
      "cell_type": "code",
      "execution_count": null,
      "metadata": {
        "id": "r8NVSxRhmO16",
        "tags": []
      },
      "outputs": [],
      "source": [
        "# kiwi 설치\n",
        "!pip install -U kiwipiepy"
      ]
    },
    {
      "cell_type": "markdown",
      "metadata": {
        "id": "j82IlqJeoi_Q"
      },
      "source": [
        "## 4.2.형태소 분석 함수 작성"
      ]
    },
    {
      "cell_type": "code",
      "execution_count": null,
      "metadata": {
        "id": "ySd6kKgdn9Zw",
        "tags": []
      },
      "outputs": [],
      "source": [
        "from kiwipiepy import Kiwi\n",
        "\n",
        "# Kiwi 객체 생성\n",
        "kiwi = Kiwi()\n",
        "\n",
        "# 텍스트 분석\n",
        "text = \"소리-있어 넓히 世界에 傳하니 온 世界 모든 人類-이에 應하야 부르짖기를 始作하도다\"\n",
        "results = kiwi.analyze(text)\n",
        "\n",
        "results"
      ]
    },
    {
      "cell_type": "code",
      "execution_count": null,
      "metadata": {
        "tags": [],
        "id": "flcF_v29l9cO"
      },
      "outputs": [],
      "source": [
        "# 영어, 숫자, 특정 부호 등 제외하기\n",
        "def filter_elements(lst):\n",
        "    # 영어, 숫자 및 '<' 문자만을 허용하는 정규식 패턴\n",
        "    pattern = re.compile(r'^[a-zA-Z0-9<＞「」]+$')\n",
        "\n",
        "    # 해당 패턴과 일치하지 않는 문자열만을 반환하는 필터링 함수\n",
        "    return list(filter(lambda x: not pattern.match(x), lst))\n",
        "\n",
        "# 형태소 분석 결과를 단순한 형태로 출력하는 사용자 함수\n",
        "def simplify_kiwi(sent):\n",
        "    morphed_list = []\n",
        "    results = kiwi.analyze(sent)\n",
        "    for result in results:\n",
        "        for token in result[0]:  # result는 (token_list, int) 형태의 튜플입니다.\n",
        "            morphed = (token.form + \"/\" + token.tag)  # 각 토큰의 형태소와 품사 태그 출력\n",
        "            morphed_list.append(morphed)\n",
        "    return morphed_list\n",
        "\n",
        "# 본격 형태소 분석\n",
        "import string\n",
        "def do_morph(sent):\n",
        "    # 토큰나이징 결과 확인 (subword + 한국어 형태소)\n",
        "    vocab_list = simplify_kiwi(sent)\n",
        "    result01 = filter_elements(vocab_list) # 영어, 숫자, 특정부호 제외 (사용자 함수)\n",
        "    return result01"
      ]
    },
    {
      "cell_type": "markdown",
      "metadata": {
        "id": "ohMe_LhOx54o"
      },
      "source": [
        "## 4.3.형태소 분석 및 정리 정돈"
      ]
    },
    {
      "cell_type": "code",
      "execution_count": null,
      "metadata": {
        "tags": [],
        "id": "YiZnMcSDl9cR"
      },
      "outputs": [],
      "source": [
        "print(sents_df.shape)\n",
        "sents_df.head(5)"
      ]
    },
    {
      "cell_type": "code",
      "execution_count": null,
      "metadata": {
        "id": "S86OXIoQoVgp",
        "tags": []
      },
      "outputs": [],
      "source": [
        "# 'content' 열에 kiwi 형태소 분석기 적용\n",
        "sents_df = sents_df.copy()\n",
        "sents_df['tokens'] = sents_df['splited_sent'].apply(do_morph)\n",
        "sents_df"
      ]
    },
    {
      "cell_type": "code",
      "source": [
        "# 'tokens' 열에서 리스트 요소가 하나도 없는 행 제거\n",
        "sents_df1 = sents_df[sents_df['tokens'].str.len() > 0]\n",
        "\n",
        "sents_df1 = sents_df1.copy()\n",
        "sents_df1['tokens'] = sents_df1['tokens'].apply(lambda x: ' '.join(x)) # 리스트를 문자열로\n",
        "sents_df1"
      ],
      "metadata": {
        "id": "yT9hZ_birb4V"
      },
      "execution_count": null,
      "outputs": []
    },
    {
      "cell_type": "code",
      "source": [
        "sents_df1['morph'] = sents_df1['tokens'].apply(\n",
        "    lambda x: [token.split('/')[0] for token in x.split() if token.split('/')[-1] in ['SH', 'NP', 'NNP']]\n",
        ")\n",
        "\n",
        "# 'morph' 열에서 리스트 요소가 하나도 없는 행 제거\n",
        "sents_df2 = sents_df1[sents_df1['morph'].str.len() > 0]\n",
        "\n",
        "# 리스트를 문자열로\n",
        "sents_df2 = sents_df2.copy()\n",
        "sents_df2['morph'] = sents_df2['morph'].apply(lambda x: ' '.join(x))\n",
        "\n",
        "print(sents_df2.shape)\n",
        "sents_df2.head(5)"
      ],
      "metadata": {
        "id": "QFx9GDSnrgX-"
      },
      "execution_count": null,
      "outputs": []
    },
    {
      "cell_type": "code",
      "source": [
        "# 문장 인덱스 생성\n",
        "sents_df2 = sents_df2.reset_index(drop = True)\n",
        "sents_df2['sent_id'] = sents_df2.index + 1\n",
        "\n",
        "# 열 순서 변경\n",
        "sents = sents_df2[['sent_id', 'morph', 'splited_sent', 'r_id', 'title', 'content']]\n",
        "sents"
      ],
      "metadata": {
        "id": "B-pClVi5rgPa"
      },
      "execution_count": null,
      "outputs": []
    },
    {
      "cell_type": "code",
      "source": [],
      "metadata": {
        "id": "2Eenv6b6tXa-"
      },
      "execution_count": null,
      "outputs": []
    },
    {
      "cell_type": "code",
      "source": [],
      "metadata": {
        "id": "21cazYtutUcP"
      },
      "execution_count": null,
      "outputs": []
    },
    {
      "cell_type": "markdown",
      "metadata": {
        "id": "giEEJ6S1l9cV"
      },
      "source": [
        "# The End of Notebook"
      ]
    }
  ],
  "metadata": {
    "colab": {
      "private_outputs": true,
      "provenance": [],
      "toc_visible": true,
      "include_colab_link": true
    },
    "kernelspec": {
      "display_name": "Python 3 (ipykernel)",
      "language": "python",
      "name": "python3"
    },
    "language_info": {
      "codemirror_mode": {
        "name": "ipython",
        "version": 3
      },
      "file_extension": ".py",
      "mimetype": "text/x-python",
      "name": "python",
      "nbconvert_exporter": "python",
      "pygments_lexer": "ipython3",
      "version": "3.12.7"
    },
    "toc-autonumbering": true
  },
  "nbformat": 4,
  "nbformat_minor": 0
}